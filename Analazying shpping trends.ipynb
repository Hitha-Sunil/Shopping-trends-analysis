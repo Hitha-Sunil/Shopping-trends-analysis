{
 "cells": [
  {
   "cell_type": "markdown",
   "id": "d566e6f2",
   "metadata": {},
   "source": [
    "# SHOPPING TRENDS DATASET"
   ]
  },
  {
   "cell_type": "markdown",
   "id": "aa31f203",
   "metadata": {},
   "source": [
    "The shopping trends dataset encompasses customer demographics, purchase details, preferences, reviews, and transaction characteristics, providing a holistic view of consumer behavior. Attributes such as age, gender, purchase amount, location, and payment methods offer insights into demographic trends and spending habits. Additionally, item-specific information like category, size, color, and seasonal relevance aids in inventory management and targeted marketing efforts. Review ratings and subscription status further contribute to understanding customer satisfaction and loyalty. Analyzing this dataset enables businesses to identify trends, optimize marketing strategies, and enhance the overall shopping experience for customers."
   ]
  },
  {
   "cell_type": "markdown",
   "id": "e0165c7a",
   "metadata": {},
   "source": [
    "**OBJECTIVE:**"
   ]
  },
  {
   "cell_type": "markdown",
   "id": "4d788ddf",
   "metadata": {},
   "source": [
    "The objective is to use MapReduce to analyze a shopping trends dataset, aiming to identify both the most and least frequently purchased items. This analysis will provide insights into customer behavior, enabling businesses to optimize marketing strategies, improve inventory management, and enhance the overall shopping experience."
   ]
  },
  {
   "cell_type": "markdown",
   "id": "805bbb0d",
   "metadata": {},
   "source": [
    "**PROBLEM STATEMENT**"
   ]
  },
  {
   "cell_type": "markdown",
   "id": "0ea31a0f",
   "metadata": {},
   "source": [
    "Analyze the shopping trends dataset using MapReduce functions to gain insights into various aspects of consumer behavior, including demographic spending patterns by age and gender, identification of popular product categories and seasonal sales trends, evaluation of customer satisfaction through average review ratings, examination of location-based spending habits, determination of preferred payment methods,tracking of sales performance over time."
   ]
  },
  {
   "cell_type": "code",
   "execution_count": 2,
   "id": "9fe001de",
   "metadata": {},
   "outputs": [],
   "source": [
    "import pandas as pd\n",
    "import numpy as np"
   ]
  },
  {
   "cell_type": "code",
   "execution_count": 3,
   "id": "2d6a1054",
   "metadata": {},
   "outputs": [],
   "source": [
    "#To read CSV file\n",
    "data = pd.read_csv(\"C:/Users/hitha sunil/Documents/Data Set/shopping_trends1.csv\")"
   ]
  },
  {
   "cell_type": "code",
   "execution_count": 6,
   "id": "478031dc",
   "metadata": {},
   "outputs": [
    {
     "data": {
      "text/plain": [
       "(200, 19)"
      ]
     },
     "execution_count": 6,
     "metadata": {},
     "output_type": "execute_result"
    }
   ],
   "source": [
    "data.shape"
   ]
  },
  {
   "cell_type": "code",
   "execution_count": 7,
   "id": "d51a7764",
   "metadata": {},
   "outputs": [
    {
     "data": {
      "text/html": [
       "<div>\n",
       "<style scoped>\n",
       "    .dataframe tbody tr th:only-of-type {\n",
       "        vertical-align: middle;\n",
       "    }\n",
       "\n",
       "    .dataframe tbody tr th {\n",
       "        vertical-align: top;\n",
       "    }\n",
       "\n",
       "    .dataframe thead th {\n",
       "        text-align: right;\n",
       "    }\n",
       "</style>\n",
       "<table border=\"1\" class=\"dataframe\">\n",
       "  <thead>\n",
       "    <tr style=\"text-align: right;\">\n",
       "      <th></th>\n",
       "      <th>Customer ID</th>\n",
       "      <th>Age</th>\n",
       "      <th>Gender</th>\n",
       "      <th>Item Purchased</th>\n",
       "      <th>Category</th>\n",
       "      <th>Purchase Amount (USD)</th>\n",
       "      <th>Location</th>\n",
       "      <th>Size</th>\n",
       "      <th>Color</th>\n",
       "      <th>Season</th>\n",
       "      <th>Review Rating</th>\n",
       "      <th>Subscription Status</th>\n",
       "      <th>Payment Method</th>\n",
       "      <th>Shipping Type</th>\n",
       "      <th>Discount Applied</th>\n",
       "      <th>Promo Code Used</th>\n",
       "      <th>Previous Purchases</th>\n",
       "      <th>Preferred Payment Method</th>\n",
       "      <th>Frequency of Purchases</th>\n",
       "    </tr>\n",
       "  </thead>\n",
       "  <tbody>\n",
       "    <tr>\n",
       "      <th>0</th>\n",
       "      <td>1</td>\n",
       "      <td>55</td>\n",
       "      <td>Female</td>\n",
       "      <td>Blouse</td>\n",
       "      <td>Clothing</td>\n",
       "      <td>53</td>\n",
       "      <td>Kentucky</td>\n",
       "      <td>L</td>\n",
       "      <td>Gray</td>\n",
       "      <td>Winter</td>\n",
       "      <td>3.1</td>\n",
       "      <td>Yes</td>\n",
       "      <td>Credit Card</td>\n",
       "      <td>Express</td>\n",
       "      <td>Yes</td>\n",
       "      <td>Yes</td>\n",
       "      <td>14</td>\n",
       "      <td>Venmo</td>\n",
       "      <td>Fortnightly</td>\n",
       "    </tr>\n",
       "    <tr>\n",
       "      <th>1</th>\n",
       "      <td>2</td>\n",
       "      <td>19</td>\n",
       "      <td>Male</td>\n",
       "      <td>Sweater</td>\n",
       "      <td>Clothing</td>\n",
       "      <td>64</td>\n",
       "      <td>Maine</td>\n",
       "      <td>L</td>\n",
       "      <td>Maroon</td>\n",
       "      <td>Winter</td>\n",
       "      <td>3.1</td>\n",
       "      <td>Yes</td>\n",
       "      <td>Bank Transfer</td>\n",
       "      <td>Express</td>\n",
       "      <td>Yes</td>\n",
       "      <td>Yes</td>\n",
       "      <td>2</td>\n",
       "      <td>Cash</td>\n",
       "      <td>Fortnightly</td>\n",
       "    </tr>\n",
       "    <tr>\n",
       "      <th>2</th>\n",
       "      <td>3</td>\n",
       "      <td>50</td>\n",
       "      <td>Male</td>\n",
       "      <td>Jeans</td>\n",
       "      <td>Clothing</td>\n",
       "      <td>73</td>\n",
       "      <td>Massachusetts</td>\n",
       "      <td>S</td>\n",
       "      <td>Maroon</td>\n",
       "      <td>Spring</td>\n",
       "      <td>3.1</td>\n",
       "      <td>Yes</td>\n",
       "      <td>Cash</td>\n",
       "      <td>Free Shipping</td>\n",
       "      <td>Yes</td>\n",
       "      <td>Yes</td>\n",
       "      <td>23</td>\n",
       "      <td>Credit Card</td>\n",
       "      <td>Weekly</td>\n",
       "    </tr>\n",
       "    <tr>\n",
       "      <th>3</th>\n",
       "      <td>4</td>\n",
       "      <td>21</td>\n",
       "      <td>Male</td>\n",
       "      <td>Sandals</td>\n",
       "      <td>Footwear</td>\n",
       "      <td>90</td>\n",
       "      <td>Rhode Island</td>\n",
       "      <td>M</td>\n",
       "      <td>Maroon</td>\n",
       "      <td>Spring</td>\n",
       "      <td>3.5</td>\n",
       "      <td>Yes</td>\n",
       "      <td>PayPal</td>\n",
       "      <td>Next Day Air</td>\n",
       "      <td>Yes</td>\n",
       "      <td>Yes</td>\n",
       "      <td>49</td>\n",
       "      <td>PayPal</td>\n",
       "      <td>Weekly</td>\n",
       "    </tr>\n",
       "    <tr>\n",
       "      <th>4</th>\n",
       "      <td>5</td>\n",
       "      <td>45</td>\n",
       "      <td>Female</td>\n",
       "      <td>Blouse</td>\n",
       "      <td>Clothing</td>\n",
       "      <td>49</td>\n",
       "      <td>Oregon</td>\n",
       "      <td>M</td>\n",
       "      <td>Turquoise</td>\n",
       "      <td>Spring</td>\n",
       "      <td>2.7</td>\n",
       "      <td>Yes</td>\n",
       "      <td>Cash</td>\n",
       "      <td>Free Shipping</td>\n",
       "      <td>Yes</td>\n",
       "      <td>Yes</td>\n",
       "      <td>31</td>\n",
       "      <td>PayPal</td>\n",
       "      <td>Annually</td>\n",
       "    </tr>\n",
       "  </tbody>\n",
       "</table>\n",
       "</div>"
      ],
      "text/plain": [
       "   Customer ID  Age  Gender Item Purchased  Category  Purchase Amount (USD)  \\\n",
       "0            1   55  Female         Blouse  Clothing                     53   \n",
       "1            2   19    Male        Sweater  Clothing                     64   \n",
       "2            3   50    Male          Jeans  Clothing                     73   \n",
       "3            4   21    Male        Sandals  Footwear                     90   \n",
       "4            5   45  Female         Blouse  Clothing                     49   \n",
       "\n",
       "        Location Size      Color  Season  Review Rating Subscription Status  \\\n",
       "0       Kentucky    L       Gray  Winter            3.1                 Yes   \n",
       "1          Maine    L     Maroon  Winter            3.1                 Yes   \n",
       "2  Massachusetts    S     Maroon  Spring            3.1                 Yes   \n",
       "3   Rhode Island    M     Maroon  Spring            3.5                 Yes   \n",
       "4         Oregon    M  Turquoise  Spring            2.7                 Yes   \n",
       "\n",
       "  Payment Method  Shipping Type Discount Applied Promo Code Used  \\\n",
       "0    Credit Card        Express              Yes             Yes   \n",
       "1  Bank Transfer        Express              Yes             Yes   \n",
       "2           Cash  Free Shipping              Yes             Yes   \n",
       "3         PayPal   Next Day Air              Yes             Yes   \n",
       "4           Cash  Free Shipping              Yes             Yes   \n",
       "\n",
       "   Previous Purchases Preferred Payment Method Frequency of Purchases  \n",
       "0                  14                    Venmo            Fortnightly  \n",
       "1                   2                     Cash            Fortnightly  \n",
       "2                  23              Credit Card                 Weekly  \n",
       "3                  49                   PayPal                 Weekly  \n",
       "4                  31                   PayPal               Annually  "
      ]
     },
     "execution_count": 7,
     "metadata": {},
     "output_type": "execute_result"
    }
   ],
   "source": [
    "data.head()"
   ]
  },
  {
   "cell_type": "code",
   "execution_count": 8,
   "id": "5ac925d8",
   "metadata": {},
   "outputs": [
    {
     "data": {
      "text/html": [
       "<div>\n",
       "<style scoped>\n",
       "    .dataframe tbody tr th:only-of-type {\n",
       "        vertical-align: middle;\n",
       "    }\n",
       "\n",
       "    .dataframe tbody tr th {\n",
       "        vertical-align: top;\n",
       "    }\n",
       "\n",
       "    .dataframe thead th {\n",
       "        text-align: right;\n",
       "    }\n",
       "</style>\n",
       "<table border=\"1\" class=\"dataframe\">\n",
       "  <thead>\n",
       "    <tr style=\"text-align: right;\">\n",
       "      <th></th>\n",
       "      <th>Customer ID</th>\n",
       "      <th>Age</th>\n",
       "      <th>Gender</th>\n",
       "      <th>Item Purchased</th>\n",
       "      <th>Category</th>\n",
       "      <th>Purchase Amount (USD)</th>\n",
       "      <th>Location</th>\n",
       "      <th>Size</th>\n",
       "      <th>Color</th>\n",
       "      <th>Season</th>\n",
       "      <th>Review Rating</th>\n",
       "      <th>Subscription Status</th>\n",
       "      <th>Payment Method</th>\n",
       "      <th>Shipping Type</th>\n",
       "      <th>Discount Applied</th>\n",
       "      <th>Promo Code Used</th>\n",
       "      <th>Previous Purchases</th>\n",
       "      <th>Preferred Payment Method</th>\n",
       "      <th>Frequency of Purchases</th>\n",
       "    </tr>\n",
       "  </thead>\n",
       "  <tbody>\n",
       "    <tr>\n",
       "      <th>195</th>\n",
       "      <td>196</td>\n",
       "      <td>51</td>\n",
       "      <td>Male</td>\n",
       "      <td>Jacket</td>\n",
       "      <td>Outerwear</td>\n",
       "      <td>25</td>\n",
       "      <td>New York</td>\n",
       "      <td>M</td>\n",
       "      <td>Magenta</td>\n",
       "      <td>Fall</td>\n",
       "      <td>4.3</td>\n",
       "      <td>Yes</td>\n",
       "      <td>Credit Card</td>\n",
       "      <td>Free Shipping</td>\n",
       "      <td>Yes</td>\n",
       "      <td>Yes</td>\n",
       "      <td>34</td>\n",
       "      <td>Credit Card</td>\n",
       "      <td>Monthly</td>\n",
       "    </tr>\n",
       "    <tr>\n",
       "      <th>196</th>\n",
       "      <td>197</td>\n",
       "      <td>38</td>\n",
       "      <td>Male</td>\n",
       "      <td>Boots</td>\n",
       "      <td>Footwear</td>\n",
       "      <td>88</td>\n",
       "      <td>Washington</td>\n",
       "      <td>M</td>\n",
       "      <td>Lavender</td>\n",
       "      <td>Summer</td>\n",
       "      <td>3.9</td>\n",
       "      <td>Yes</td>\n",
       "      <td>Cash</td>\n",
       "      <td>Next Day Air</td>\n",
       "      <td>Yes</td>\n",
       "      <td>Yes</td>\n",
       "      <td>41</td>\n",
       "      <td>Credit Card</td>\n",
       "      <td>Fortnightly</td>\n",
       "    </tr>\n",
       "    <tr>\n",
       "      <th>197</th>\n",
       "      <td>198</td>\n",
       "      <td>59</td>\n",
       "      <td>Female</td>\n",
       "      <td>Scarf</td>\n",
       "      <td>Accessories</td>\n",
       "      <td>78</td>\n",
       "      <td>South Carolina</td>\n",
       "      <td>M</td>\n",
       "      <td>Black</td>\n",
       "      <td>Fall</td>\n",
       "      <td>3.2</td>\n",
       "      <td>Yes</td>\n",
       "      <td>Debit Card</td>\n",
       "      <td>2-Day Shipping</td>\n",
       "      <td>Yes</td>\n",
       "      <td>Yes</td>\n",
       "      <td>41</td>\n",
       "      <td>Credit Card</td>\n",
       "      <td>Monthly</td>\n",
       "    </tr>\n",
       "    <tr>\n",
       "      <th>198</th>\n",
       "      <td>199</td>\n",
       "      <td>57</td>\n",
       "      <td>Female</td>\n",
       "      <td>Jewelry</td>\n",
       "      <td>Accessories</td>\n",
       "      <td>45</td>\n",
       "      <td>Utah</td>\n",
       "      <td>M</td>\n",
       "      <td>Turquoise</td>\n",
       "      <td>Winter</td>\n",
       "      <td>4.8</td>\n",
       "      <td>Yes</td>\n",
       "      <td>Cash</td>\n",
       "      <td>Standard</td>\n",
       "      <td>Yes</td>\n",
       "      <td>Yes</td>\n",
       "      <td>39</td>\n",
       "      <td>Credit Card</td>\n",
       "      <td>Fortnightly</td>\n",
       "    </tr>\n",
       "    <tr>\n",
       "      <th>199</th>\n",
       "      <td>200</td>\n",
       "      <td>54</td>\n",
       "      <td>Male</td>\n",
       "      <td>Hat</td>\n",
       "      <td>Accessories</td>\n",
       "      <td>73</td>\n",
       "      <td>Idaho</td>\n",
       "      <td>XL</td>\n",
       "      <td>Green</td>\n",
       "      <td>Summer</td>\n",
       "      <td>3.8</td>\n",
       "      <td>Yes</td>\n",
       "      <td>Debit Card</td>\n",
       "      <td>Express</td>\n",
       "      <td>Yes</td>\n",
       "      <td>Yes</td>\n",
       "      <td>32</td>\n",
       "      <td>Cash</td>\n",
       "      <td>Weekly</td>\n",
       "    </tr>\n",
       "  </tbody>\n",
       "</table>\n",
       "</div>"
      ],
      "text/plain": [
       "     Customer ID  Age  Gender Item Purchased     Category  \\\n",
       "195          196   51    Male         Jacket    Outerwear   \n",
       "196          197   38    Male          Boots     Footwear   \n",
       "197          198   59  Female          Scarf  Accessories   \n",
       "198          199   57  Female        Jewelry  Accessories   \n",
       "199          200   54    Male            Hat  Accessories   \n",
       "\n",
       "     Purchase Amount (USD)        Location Size      Color  Season  \\\n",
       "195                     25        New York    M    Magenta    Fall   \n",
       "196                     88      Washington    M   Lavender  Summer   \n",
       "197                     78  South Carolina    M      Black    Fall   \n",
       "198                     45            Utah    M  Turquoise  Winter   \n",
       "199                     73           Idaho   XL      Green  Summer   \n",
       "\n",
       "     Review Rating Subscription Status Payment Method   Shipping Type  \\\n",
       "195            4.3                 Yes    Credit Card   Free Shipping   \n",
       "196            3.9                 Yes           Cash    Next Day Air   \n",
       "197            3.2                 Yes     Debit Card  2-Day Shipping   \n",
       "198            4.8                 Yes           Cash        Standard   \n",
       "199            3.8                 Yes     Debit Card         Express   \n",
       "\n",
       "    Discount Applied Promo Code Used  Previous Purchases  \\\n",
       "195              Yes             Yes                  34   \n",
       "196              Yes             Yes                  41   \n",
       "197              Yes             Yes                  41   \n",
       "198              Yes             Yes                  39   \n",
       "199              Yes             Yes                  32   \n",
       "\n",
       "    Preferred Payment Method Frequency of Purchases  \n",
       "195              Credit Card                Monthly  \n",
       "196              Credit Card            Fortnightly  \n",
       "197              Credit Card                Monthly  \n",
       "198              Credit Card            Fortnightly  \n",
       "199                     Cash                 Weekly  "
      ]
     },
     "execution_count": 8,
     "metadata": {},
     "output_type": "execute_result"
    }
   ],
   "source": [
    "data.tail()"
   ]
  },
  {
   "cell_type": "code",
   "execution_count": 9,
   "id": "be9a8979",
   "metadata": {},
   "outputs": [
    {
     "name": "stdout",
     "output_type": "stream",
     "text": [
      "<class 'pandas.core.frame.DataFrame'>\n",
      "RangeIndex: 200 entries, 0 to 199\n",
      "Data columns (total 19 columns):\n",
      " #   Column                    Non-Null Count  Dtype  \n",
      "---  ------                    --------------  -----  \n",
      " 0   Customer ID               200 non-null    int64  \n",
      " 1   Age                       200 non-null    int64  \n",
      " 2   Gender                    200 non-null    object \n",
      " 3   Item Purchased            200 non-null    object \n",
      " 4   Category                  200 non-null    object \n",
      " 5   Purchase Amount (USD)     200 non-null    int64  \n",
      " 6   Location                  200 non-null    object \n",
      " 7   Size                      200 non-null    object \n",
      " 8   Color                     200 non-null    object \n",
      " 9   Season                    200 non-null    object \n",
      " 10  Review Rating             200 non-null    float64\n",
      " 11  Subscription Status       200 non-null    object \n",
      " 12  Payment Method            200 non-null    object \n",
      " 13  Shipping Type             200 non-null    object \n",
      " 14  Discount Applied          200 non-null    object \n",
      " 15  Promo Code Used           200 non-null    object \n",
      " 16  Previous Purchases        200 non-null    int64  \n",
      " 17  Preferred Payment Method  200 non-null    object \n",
      " 18  Frequency of Purchases    200 non-null    object \n",
      "dtypes: float64(1), int64(4), object(14)\n",
      "memory usage: 29.8+ KB\n"
     ]
    }
   ],
   "source": [
    "data.info()"
   ]
  },
  {
   "cell_type": "code",
   "execution_count": 10,
   "id": "8242a5f2",
   "metadata": {},
   "outputs": [
    {
     "data": {
      "text/plain": [
       "Customer ID                 0\n",
       "Age                         0\n",
       "Gender                      0\n",
       "Item Purchased              0\n",
       "Category                    0\n",
       "Purchase Amount (USD)       0\n",
       "Location                    0\n",
       "Size                        0\n",
       "Color                       0\n",
       "Season                      0\n",
       "Review Rating               0\n",
       "Subscription Status         0\n",
       "Payment Method              0\n",
       "Shipping Type               0\n",
       "Discount Applied            0\n",
       "Promo Code Used             0\n",
       "Previous Purchases          0\n",
       "Preferred Payment Method    0\n",
       "Frequency of Purchases      0\n",
       "dtype: int64"
      ]
     },
     "execution_count": 10,
     "metadata": {},
     "output_type": "execute_result"
    }
   ],
   "source": [
    "data.isnull().sum()"
   ]
  },
  {
   "cell_type": "code",
   "execution_count": 11,
   "id": "638c679e",
   "metadata": {},
   "outputs": [
    {
     "data": {
      "text/plain": [
       "Customer ID                 200\n",
       "Age                          51\n",
       "Gender                        2\n",
       "Item Purchased               25\n",
       "Category                      4\n",
       "Purchase Amount (USD)        73\n",
       "Location                     49\n",
       "Size                          4\n",
       "Color                        25\n",
       "Season                        4\n",
       "Review Rating                26\n",
       "Subscription Status           1\n",
       "Payment Method                6\n",
       "Shipping Type                 6\n",
       "Discount Applied              1\n",
       "Promo Code Used               1\n",
       "Previous Purchases           49\n",
       "Preferred Payment Method      6\n",
       "Frequency of Purchases        7\n",
       "dtype: int64"
      ]
     },
     "execution_count": 11,
     "metadata": {},
     "output_type": "execute_result"
    }
   ],
   "source": [
    "data.nunique()"
   ]
  },
  {
   "cell_type": "code",
   "execution_count": 12,
   "id": "2b2e88ff",
   "metadata": {},
   "outputs": [
    {
     "data": {
      "text/plain": [
       "Customer ID                   int64\n",
       "Age                           int64\n",
       "Gender                       object\n",
       "Item Purchased               object\n",
       "Category                     object\n",
       "Purchase Amount (USD)         int64\n",
       "Location                     object\n",
       "Size                         object\n",
       "Color                        object\n",
       "Season                       object\n",
       "Review Rating               float64\n",
       "Subscription Status          object\n",
       "Payment Method               object\n",
       "Shipping Type                object\n",
       "Discount Applied             object\n",
       "Promo Code Used              object\n",
       "Previous Purchases            int64\n",
       "Preferred Payment Method     object\n",
       "Frequency of Purchases       object\n",
       "dtype: object"
      ]
     },
     "execution_count": 12,
     "metadata": {},
     "output_type": "execute_result"
    }
   ],
   "source": [
    "data.dtypes"
   ]
  },
  {
   "cell_type": "markdown",
   "id": "c994953b",
   "metadata": {},
   "source": [
    "**Demographic spending Analysis**"
   ]
  },
  {
   "cell_type": "markdown",
   "id": "0509baf4",
   "metadata": {},
   "source": [
    " **Calculate the total and average purchase amount for different age groups and genders.**"
   ]
  },
  {
   "cell_type": "code",
   "execution_count": 25,
   "id": "f32c0b80",
   "metadata": {},
   "outputs": [
    {
     "name": "stdout",
     "output_type": "stream",
     "text": [
      "Total and Average Purchase Amount for Different Age Groups and Genders:\n",
      "Age Group: 0-19, Gender: Female, Total Purchase Amount: 192.0, Average Purchase Amount: 64.0\n",
      "Age Group: 0-19, Gender: Male, Total Purchase Amount: 254.0, Average Purchase Amount: 42.333333333333336\n",
      "Age Group: 20-39, Gender: Female, Total Purchase Amount: 1397.0, Average Purchase Amount: 58.208333333333336\n",
      "Age Group: 20-39, Gender: Male, Total Purchase Amount: 3215.0, Average Purchase Amount: 64.3\n",
      "Age Group: 40-59, Gender: Female, Total Purchase Amount: 2293.0, Average Purchase Amount: 63.69444444444444\n",
      "Age Group: 40-59, Gender: Male, Total Purchase Amount: 2398.0, Average Purchase Amount: 51.02127659574468\n",
      "Age Group: 60+, Gender: Female, Total Purchase Amount: 702.0, Average Purchase Amount: 58.5\n",
      "Age Group: 60+, Gender: Male, Total Purchase Amount: 1507.0, Average Purchase Amount: 68.5\n"
     ]
    }
   ],
   "source": [
    "from collections import defaultdict\n",
    "# Define mapper function\n",
    "def mapper(row):\n",
    "    # Extract relevant information\n",
    "    age = int(row['Age'])\n",
    "    gender = row['Gender']\n",
    "    purchase_amount = float(row['Purchase Amount (USD)'])\n",
    "    \n",
    "    # Define age groups\n",
    "    if age < 20:\n",
    "        age_group = \"0-19\"\n",
    "    elif 20 <= age < 40:\n",
    "        age_group = \"20-39\"\n",
    "    elif 40 <= age < 60:\n",
    "        age_group = \"40-59\"\n",
    "    else:\n",
    "        age_group = \"60+\"\n",
    "\n",
    "    # Emit key-value pairs\n",
    "    return (age_group, gender), purchase_amount\n",
    "\n",
    "# Define reducer function\n",
    "def reducer(key, values):\n",
    "    # Calculate total and average purchase amount\n",
    "    total_purchase = sum(values)\n",
    "    count = len(values)\n",
    "    average_purchase = total_purchase / count if count != 0 else 0\n",
    "    \n",
    "    # Emit key-value pair\n",
    "    return key, (total_purchase, average_purchase)\n",
    "\n",
    "# Perform map operation on the DataFrame\n",
    "mapped_data = []\n",
    "for index, row in data.iterrows():\n",
    "    key, value = mapper(row)\n",
    "    mapped_data.append((key, value))\n",
    "\n",
    "# Define shuffle and sort function\n",
    "def shuffle_and_sort(mapped_data):\n",
    "    # Group mapped data by key\n",
    "    grouped_data = defaultdict(list)\n",
    "    for key, value in mapped_data:\n",
    "        grouped_data[key].append(value)\n",
    "    \n",
    "    # Sort grouped data by key\n",
    "    sorted_data = sorted(grouped_data.items())\n",
    "\n",
    "    return sorted_data\n",
    "\n",
    "# Shuffle and sort mapped data\n",
    "sorted_mapped_data = shuffle_and_sort(mapped_data)\n",
    "\n",
    "# Perform reduce operation and store results in a dictionary\n",
    "reduce_output = {}\n",
    "for key, values in sorted_mapped_data:\n",
    "    key, result = reducer(key, values)\n",
    "    reduce_output[key] = result\n",
    "\n",
    "# Print reduced data\n",
    "print(\"Total and Average Purchase Amount for Different Age Groups and Genders:\")\n",
    "for key, (total, average) in reduce_output.items():\n",
    "    age_group, gender = key\n",
    "    print(f\"Age Group: {age_group}, Gender: {gender}, Total Purchase Amount: {total}, Average Purchase Amount: {average}\")\n"
   ]
  },
  {
   "cell_type": "code",
   "execution_count": null,
   "id": "f2344b23",
   "metadata": {},
   "outputs": [],
   "source": []
  },
  {
   "cell_type": "markdown",
   "id": "cf6cd47e",
   "metadata": {},
   "source": [
    "**Popular Product Categories:**"
   ]
  },
  {
   "cell_type": "markdown",
   "id": "7dfadf54",
   "metadata": {},
   "source": [
    "**Identify the most popular product categories based on the number of purchases and total sales amount.**"
   ]
  },
  {
   "cell_type": "code",
   "execution_count": 10,
   "id": "a71507f3",
   "metadata": {},
   "outputs": [
    {
     "name": "stdout",
     "output_type": "stream",
     "text": [
      "Most Popular Product Categories Based on Number of Purchases and Total Sales Amount:\n",
      "Product Category: Accessories, Number of Purchases: 61, Total Sales Amount: 3752.0\n",
      "Product Category: Clothing, Number of Purchases: 86, Total Sales Amount: 4811.0\n",
      "Product Category: Footwear, Number of Purchases: 28, Total Sales Amount: 1764.0\n",
      "Product Category: Outerwear, Number of Purchases: 25, Total Sales Amount: 1631.0\n"
     ]
    }
   ],
   "source": [
    "from collections import defaultdict\n",
    "def mapper(row):\n",
    "    category = row['Category']\n",
    "    purchase_amount = float(row['Purchase Amount (USD)'])\n",
    "    return category, purchase_amount\n",
    "def reducer(key, values):\n",
    "    total_purchases = len(values)\n",
    "    total_purchase_amount = sum(values)\n",
    "    return key, (total_purchases, total_purchase_amount)\n",
    "mapped_data = []\n",
    "for index, row in data.iterrows():\n",
    "    key, value = mapper(row)\n",
    "    mapped_data.append((key, value))\n",
    "def shuffle_and_sort(mapped_data): \n",
    "    grouped_data = defaultdict(list)\n",
    "    for key, value in mapped_data:\n",
    "        grouped_data[key].append(value)\n",
    "    sorted_data = sorted(grouped_data.items())\n",
    "    return sorted_data\n",
    "sorted_mapped_data = shuffle_and_sort(mapped_data)\n",
    "reduce_output = {}\n",
    "for key, values in sorted_mapped_data:\n",
    "    key, result = reducer(key, values)\n",
    "    reduce_output[key] = result\n",
    "print(\"Most Popular Product Categories Based on Number of Purchases and Total Sales Amount:\")\n",
    "for key, (total_purchases, total_purchase_amount) in reduce_output.items():\n",
    "    print(f\"Product Category: {key}, Number of Purchases: {total_purchases}, Total Sales Amount: {total_purchase_amount}\")\n"
   ]
  },
  {
   "cell_type": "markdown",
   "id": "76c636f8",
   "metadata": {},
   "source": [
    "**Seasonal Trends**"
   ]
  },
  {
   "cell_type": "markdown",
   "id": "695f0d5d",
   "metadata": {},
   "source": [
    "**Finding the sales trends for different categories across various seasons**"
   ]
  },
  {
   "cell_type": "code",
   "execution_count": 14,
   "id": "cad55579",
   "metadata": {},
   "outputs": [
    {
     "name": "stdout",
     "output_type": "stream",
     "text": [
      "Sales Trends for Different Product Categories Across Various Seasons:\n",
      "Season: Fall, Product Category: Accessories, Total Sales Amount: 1326.0\n",
      "Season: Fall, Product Category: Clothing, Total Sales Amount: 844.0\n",
      "Season: Fall, Product Category: Footwear, Total Sales Amount: 633.0\n",
      "Season: Fall, Product Category: Outerwear, Total Sales Amount: 563.0\n",
      "Season: Spring, Product Category: Accessories, Total Sales Amount: 773.0\n",
      "Season: Spring, Product Category: Clothing, Total Sales Amount: 1249.0\n",
      "Season: Spring, Product Category: Footwear, Total Sales Amount: 367.0\n",
      "Season: Spring, Product Category: Outerwear, Total Sales Amount: 217.0\n",
      "Season: Summer, Product Category: Accessories, Total Sales Amount: 992.0\n",
      "Season: Summer, Product Category: Clothing, Total Sales Amount: 1274.0\n",
      "Season: Summer, Product Category: Footwear, Total Sales Amount: 481.0\n",
      "Season: Summer, Product Category: Outerwear, Total Sales Amount: 482.0\n",
      "Season: Winter, Product Category: Accessories, Total Sales Amount: 661.0\n",
      "Season: Winter, Product Category: Clothing, Total Sales Amount: 1444.0\n",
      "Season: Winter, Product Category: Footwear, Total Sales Amount: 283.0\n",
      "Season: Winter, Product Category: Outerwear, Total Sales Amount: 369.0\n"
     ]
    }
   ],
   "source": [
    "from collections import defaultdict\n",
    "def mapper(row):\n",
    "    season = row['Season']\n",
    "    category = row['Category']\n",
    "    purchase_amount = float(row['Purchase Amount (USD)'])\n",
    "    return (season, category), purchase_amount\n",
    "def reducer(key, values):\n",
    "    total_purchase_amount = sum(values)\n",
    "    return key, total_purchase_amount\n",
    "mapped_data = []\n",
    "for index, row in data.iterrows():\n",
    "    key, value = mapper(row)\n",
    "    mapped_data.append((key, value))\n",
    "def shuffle_and_sort(mapped_data):\n",
    "    grouped_data = defaultdict(list)\n",
    "    for key, value in mapped_data:\n",
    "        grouped_data[key].append(value)\n",
    "    sorted_data = sorted(grouped_data.items())\n",
    "    return sorted_data\n",
    "sorted_mapped_data = shuffle_and_sort(mapped_data)\n",
    "reduce_output = {}\n",
    "for key, values in sorted_mapped_data:\n",
    "    key, result = reducer(key, values)\n",
    "    reduce_output[key] = result\n",
    "print(\"Sales Trends for Different Product Categories Across Various Seasons:\")\n",
    "for key, total_purchase_amount in reduce_output.items():\n",
    "    season, category = key\n",
    "    print(f\"Season: {season}, Product Category: {category}, Total Sales Amount: {total_purchase_amount}\")\n",
    "    "
   ]
  },
  {
   "cell_type": "markdown",
   "id": "168e940b",
   "metadata": {},
   "source": [
    "**Customer Satisfaction Analysis:**"
   ]
  },
  {
   "cell_type": "markdown",
   "id": "0580d8c7",
   "metadata": {},
   "source": [
    "**Finding the average review rating for products across different categories.**"
   ]
  },
  {
   "cell_type": "code",
   "execution_count": 15,
   "id": "6f9691a6",
   "metadata": {},
   "outputs": [
    {
     "name": "stdout",
     "output_type": "stream",
     "text": [
      "Average Review Rating for Products Across Different Categories:\n",
      "Product Category: Accessories, Average Review Rating: ('Accessories', 1.0)\n",
      "Product Category: Clothing, Average Review Rating: ('Clothing', 1.0)\n",
      "Product Category: Footwear, Average Review Rating: ('Footwear', 1.0)\n",
      "Product Category: Outerwear, Average Review Rating: ('Outerwear', 1.0)\n"
     ]
    }
   ],
   "source": [
    "from collections import defaultdict\n",
    "def mapper(row):\n",
    "    category = row['Category']\n",
    "    review_rating = float(row['Review Rating'])\n",
    "    return category, review_rating\n",
    "def reducer(key, values):\n",
    "    total_rating = sum(values)\n",
    "    total_review_rating = sum(values)\n",
    "    avg_rating=total_rating/total_review_rating\n",
    "    return key, (key ,avg_rating )\n",
    "mapped_data = []\n",
    "for index, row in data.iterrows():\n",
    "    key, value = mapper(row)\n",
    "    mapped_data.append((key, value))\n",
    "def shuffle_and_sort(mapped_data): \n",
    "    grouped_data = defaultdict(list)\n",
    "    for key, value in mapped_data:\n",
    "        grouped_data[key].append(value)\n",
    "    sorted_data = sorted(grouped_data.items())\n",
    "    return sorted_data\n",
    "sorted_mapped_data = shuffle_and_sort(mapped_data)\n",
    "reduce_output = {}\n",
    "for key, values in sorted_mapped_data:\n",
    "    key, result = reducer(key, values)\n",
    "    reduce_output[key] = result\n",
    "print(\"Average Review Rating for Products Across Different Categories:\")\n",
    "for key, average_rating in reduce_output.items():\n",
    "    print(f\"Product Category: {key}, Average Review Rating: {average_rating}\")"
   ]
  },
  {
   "cell_type": "markdown",
   "id": "2795319c",
   "metadata": {},
   "source": [
    "**Location-Based Spending Patterns:**"
   ]
  },
  {
   "cell_type": "markdown",
   "id": "7ad9829c",
   "metadata": {},
   "source": [
    "**Analyze the spending habits of customers based on their geographical location.**"
   ]
  },
  {
   "cell_type": "code",
   "execution_count": 16,
   "id": "da17f695",
   "metadata": {},
   "outputs": [
    {
     "name": "stdout",
     "output_type": "stream",
     "text": [
      "Spending os customers based on Location:\n",
      "Location: Alabama, Total Purchase: 329.0\n",
      "Location: Alaska, Total Purchase: 59.0\n",
      "Location: Arizona, Total Purchase: 171.0\n",
      "Location: Arkansas, Total Purchase: 114.0\n",
      "Location: California, Total Purchase: 419.0\n",
      "Location: Colorado, Total Purchase: 111.0\n",
      "Location: Connecticut, Total Purchase: 106.0\n",
      "Location: Delaware, Total Purchase: 413.0\n",
      "Location: Florida, Total Purchase: 281.0\n",
      "Location: Georgia, Total Purchase: 177.0\n",
      "Location: Hawaii, Total Purchase: 232.0\n",
      "Location: Idaho, Total Purchase: 217.0\n",
      "Location: Illinois, Total Purchase: 100.0\n",
      "Location: Indiana, Total Purchase: 173.0\n",
      "Location: Iowa, Total Purchase: 96.0\n",
      "Location: Kansas, Total Purchase: 190.0\n",
      "Location: Kentucky, Total Purchase: 306.0\n",
      "Location: Louisiana, Total Purchase: 409.0\n",
      "Location: Maine, Total Purchase: 170.0\n",
      "Location: Maryland, Total Purchase: 95.0\n",
      "Location: Massachusetts, Total Purchase: 337.0\n",
      "Location: Minnesota, Total Purchase: 91.0\n",
      "Location: Mississippi, Total Purchase: 281.0\n",
      "Location: Missouri, Total Purchase: 488.0\n",
      "Location: Montana, Total Purchase: 331.0\n",
      "Location: Nebraska, Total Purchase: 245.0\n",
      "Location: Nevada, Total Purchase: 308.0\n",
      "Location: New Hampshire, Total Purchase: 183.0\n",
      "Location: New Jersey, Total Purchase: 163.0\n",
      "Location: New Mexico, Total Purchase: 247.0\n",
      "Location: New York, Total Purchase: 339.0\n",
      "Location: North Carolina, Total Purchase: 270.0\n",
      "Location: North Dakota, Total Purchase: 372.0\n",
      "Location: Ohio, Total Purchase: 151.0\n",
      "Location: Oklahoma, Total Purchase: 339.0\n",
      "Location: Oregon, Total Purchase: 49.0\n",
      "Location: Pennsylvania, Total Purchase: 161.0\n",
      "Location: Rhode Island, Total Purchase: 261.0\n",
      "Location: South Carolina, Total Purchase: 424.0\n",
      "Location: South Dakota, Total Purchase: 211.0\n",
      "Location: Tennessee, Total Purchase: 191.0\n",
      "Location: Texas, Total Purchase: 337.0\n",
      "Location: Utah, Total Purchase: 252.0\n",
      "Location: Vermont, Total Purchase: 162.0\n",
      "Location: Virginia, Total Purchase: 542.0\n",
      "Location: Washington, Total Purchase: 128.0\n",
      "Location: West Virginia, Total Purchase: 495.0\n",
      "Location: Wisconsin, Total Purchase: 32.0\n",
      "Location: Wyoming, Total Purchase: 400.0\n"
     ]
    }
   ],
   "source": [
    "from collections import defaultdict\n",
    "def mapper(row):\n",
    "    location = row['Location']\n",
    "    purchase_amount = float(row['Purchase Amount (USD)'])\n",
    "    return location, purchase_amount\n",
    "def reducer(key, values):\n",
    "    total_purchase_amount = sum(values)\n",
    "    return key,total_purchase_amount\n",
    "mapped_data = []\n",
    "for index, row in data.iterrows():\n",
    "    key, value = mapper(row)\n",
    "    mapped_data.append((key, value))\n",
    "def shuffle_and_sort(mapped_data): \n",
    "    grouped_data = defaultdict(list)\n",
    "    for key, value in mapped_data:\n",
    "        grouped_data[key].append(value)\n",
    "    sorted_data = sorted(grouped_data.items())\n",
    "    return sorted_data\n",
    "sorted_mapped_data = shuffle_and_sort(mapped_data)\n",
    "reduce_output = {}\n",
    "for key, values in sorted_mapped_data:\n",
    "    key, result = reducer(key, values)\n",
    "    reduce_output[key] = result\n",
    "print(\"Spending os customers based on Location:\")\n",
    "for key,total_purchase_amount in reduce_output.items():\n",
    "    print(f\"Location: {key}, Total Purchase: {total_purchase_amount}\")\n"
   ]
  },
  {
   "cell_type": "markdown",
   "id": "63f06be2",
   "metadata": {},
   "source": [
    "**ANALYSIS:**"
   ]
  },
  {
   "cell_type": "markdown",
   "id": "c436295d",
   "metadata": {},
   "source": [
    "-The **age group 20-39**, particularly **males**, show the highest purchase amounts, making them a crucial target for marketing and sales strategies.\n",
    "Businesses could target promotional efforts towards males aged 20-39 to leverage their higher spending.\n"
   ]
  },
  {
   "cell_type": "markdown",
   "id": "25625a06",
   "metadata": {},
   "source": [
    "-**Clothing** is more in demand with highest number of purchases and highest total sales amount.Therefor clothing is a critical category for marketing focus."
   ]
  },
  {
   "cell_type": "markdown",
   "id": "922f2bea",
   "metadata": {},
   "source": [
    "-During **Fall** Accessories have the highest sales indicating a strong demand for seasonal accessories.\n",
    "\n",
    "-During **Spring** Clothing has the highest sales suggesting a preference for updating wardrobes for the new season.\n",
    "\n",
    "-During **Summer** Clothing again takes the top spot , showing consistent high demand for summer apparel.\n",
    "\n",
    "-During **Winter** Clothing maintains the highest sales, reflecting the need for winter-specific garments and layering items. "
   ]
  },
  {
   "cell_type": "markdown",
   "id": "4183b36c",
   "metadata": {},
   "source": [
    "**RELEVANCE :**"
   ]
  },
  {
   "cell_type": "markdown",
   "id": "e17a66ac",
   "metadata": {},
   "source": [
    "Analyzing shopping trends provides valuable insights into cutomer purchasing behavior, helping businesses optimize their inventory, marketing strategies, and product offerings. This data-driven approach enables businesses to make informed decisions, enhance sales performance, and stay competitive in the market. Ultimately, these analyses help businesses to maximize profitability by offering the right products to the right customers at the right time while ensuring a seamless shopping experience."
   ]
  },
  {
   "cell_type": "code",
   "execution_count": null,
   "id": "4741e04d",
   "metadata": {},
   "outputs": [],
   "source": []
  }
 ],
 "metadata": {
  "kernelspec": {
   "display_name": "Python 3 (ipykernel)",
   "language": "python",
   "name": "python3"
  },
  "language_info": {
   "codemirror_mode": {
    "name": "ipython",
    "version": 3
   },
   "file_extension": ".py",
   "mimetype": "text/x-python",
   "name": "python",
   "nbconvert_exporter": "python",
   "pygments_lexer": "ipython3",
   "version": "3.11.3"
  }
 },
 "nbformat": 4,
 "nbformat_minor": 5
}
